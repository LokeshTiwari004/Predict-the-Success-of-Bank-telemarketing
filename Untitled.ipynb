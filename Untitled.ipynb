{
 "cells": [
  {
   "cell_type": "code",
   "execution_count": 739,
   "id": "d73b58d4-1977-4f44-ad1b-2e060fadf243",
   "metadata": {},
   "outputs": [],
   "source": [
    "import pandas as pd\n",
    "import numpy as np\n",
    "from sklearn.model_selection import train_test_split\n",
    "from sklearn.base import BaseEstimator, TransformerMixin\n",
    "from sklearn.preprocessing import KBinsDiscretizer\n",
    "from sklearn.pipeline import Pipeline\n",
    "from sklearn.preprocessing import OrdinalEncoder, OneHotEncoder, Normalizer, MinMaxScaler\n",
    "from sklearn.compose import ColumnTransformer\n",
    "from sklearn.tree import DecisionTreeClassifier, plot_tree\n",
    "from sklearn.ensemble import BaggingClassifier, RandomForestClassifier\n",
    "from sklearn.neural_network import MLPRegressor\n",
    "from sklearn.metrics import confusion_matrix, accuracy_score, f1_score, precision_score, recall_score, precision_recall_curve"
   ]
  },
  {
   "cell_type": "code",
   "execution_count": 694,
   "id": "b279ddf3-7f06-4f7c-8d25-78ba60afab43",
   "metadata": {},
   "outputs": [
    {
     "name": "stderr",
     "output_type": "stream",
     "text": [
      "Intel(R) Extension for Scikit-learn* enabled (https://github.com/intel/scikit-learn-intelex)\n"
     ]
    }
   ],
   "source": [
    "import matplotlib.pyplot as plt\n",
    "import seaborn as sns\n",
    "from scipy import stats\n",
    "from sklearnex import patch_sklearn\n",
    "patch_sklearn()"
   ]
  },
  {
   "cell_type": "code",
   "execution_count": 5,
   "id": "77c90e0f-1295-40a6-83d5-cc08a30ba7db",
   "metadata": {},
   "outputs": [],
   "source": [
    "training_data = pd.read_csv('./data/train.csv')"
   ]
  },
  {
   "cell_type": "code",
   "execution_count": 7,
   "id": "508ef8ba-6056-4f85-a161-91157c4f52c7",
   "metadata": {},
   "outputs": [
    {
     "data": {
      "text/plain": [
       "(39211, 16)"
      ]
     },
     "execution_count": 7,
     "metadata": {},
     "output_type": "execute_result"
    }
   ],
   "source": [
    "training_data.shape"
   ]
  },
  {
   "cell_type": "code",
   "execution_count": 192,
   "id": "23e454eb-5adf-4417-89ed-e5ba1c8003a3",
   "metadata": {
    "scrolled": true
   },
   "outputs": [
    {
     "data": {
      "text/html": [
       "<div>\n",
       "<style scoped>\n",
       "    .dataframe tbody tr th:only-of-type {\n",
       "        vertical-align: middle;\n",
       "    }\n",
       "\n",
       "    .dataframe tbody tr th {\n",
       "        vertical-align: top;\n",
       "    }\n",
       "\n",
       "    .dataframe thead th {\n",
       "        text-align: right;\n",
       "    }\n",
       "</style>\n",
       "<table border=\"1\" class=\"dataframe\">\n",
       "  <thead>\n",
       "    <tr style=\"text-align: right;\">\n",
       "      <th></th>\n",
       "      <th>last contact date</th>\n",
       "      <th>age</th>\n",
       "      <th>job</th>\n",
       "      <th>marital</th>\n",
       "      <th>education</th>\n",
       "      <th>default</th>\n",
       "      <th>balance</th>\n",
       "      <th>housing</th>\n",
       "      <th>loan</th>\n",
       "      <th>contact</th>\n",
       "      <th>duration</th>\n",
       "      <th>campaign</th>\n",
       "      <th>pdays</th>\n",
       "      <th>previous</th>\n",
       "      <th>poutcome</th>\n",
       "      <th>target</th>\n",
       "    </tr>\n",
       "  </thead>\n",
       "  <tbody>\n",
       "    <tr>\n",
       "      <th>0</th>\n",
       "      <td>2009-04-17</td>\n",
       "      <td>26</td>\n",
       "      <td>blue-collar</td>\n",
       "      <td>married</td>\n",
       "      <td>secondary</td>\n",
       "      <td>no</td>\n",
       "      <td>647</td>\n",
       "      <td>yes</td>\n",
       "      <td>no</td>\n",
       "      <td>cellular</td>\n",
       "      <td>357</td>\n",
       "      <td>2</td>\n",
       "      <td>331</td>\n",
       "      <td>1</td>\n",
       "      <td>other</td>\n",
       "      <td>no</td>\n",
       "    </tr>\n",
       "    <tr>\n",
       "      <th>1</th>\n",
       "      <td>2009-10-11</td>\n",
       "      <td>52</td>\n",
       "      <td>technician</td>\n",
       "      <td>married</td>\n",
       "      <td>secondary</td>\n",
       "      <td>no</td>\n",
       "      <td>553</td>\n",
       "      <td>yes</td>\n",
       "      <td>no</td>\n",
       "      <td>telephone</td>\n",
       "      <td>160</td>\n",
       "      <td>1</td>\n",
       "      <td>-1</td>\n",
       "      <td>0</td>\n",
       "      <td>NaN</td>\n",
       "      <td>no</td>\n",
       "    </tr>\n",
       "    <tr>\n",
       "      <th>2</th>\n",
       "      <td>2010-11-20</td>\n",
       "      <td>44</td>\n",
       "      <td>blue-collar</td>\n",
       "      <td>married</td>\n",
       "      <td>secondary</td>\n",
       "      <td>no</td>\n",
       "      <td>1397</td>\n",
       "      <td>no</td>\n",
       "      <td>no</td>\n",
       "      <td>cellular</td>\n",
       "      <td>326</td>\n",
       "      <td>1</td>\n",
       "      <td>-1</td>\n",
       "      <td>0</td>\n",
       "      <td>NaN</td>\n",
       "      <td>no</td>\n",
       "    </tr>\n",
       "    <tr>\n",
       "      <th>3</th>\n",
       "      <td>2009-09-01</td>\n",
       "      <td>33</td>\n",
       "      <td>admin.</td>\n",
       "      <td>married</td>\n",
       "      <td>secondary</td>\n",
       "      <td>no</td>\n",
       "      <td>394</td>\n",
       "      <td>yes</td>\n",
       "      <td>no</td>\n",
       "      <td>telephone</td>\n",
       "      <td>104</td>\n",
       "      <td>3</td>\n",
       "      <td>-1</td>\n",
       "      <td>0</td>\n",
       "      <td>NaN</td>\n",
       "      <td>no</td>\n",
       "    </tr>\n",
       "    <tr>\n",
       "      <th>4</th>\n",
       "      <td>2008-01-29</td>\n",
       "      <td>31</td>\n",
       "      <td>entrepreneur</td>\n",
       "      <td>single</td>\n",
       "      <td>tertiary</td>\n",
       "      <td>no</td>\n",
       "      <td>137</td>\n",
       "      <td>no</td>\n",
       "      <td>no</td>\n",
       "      <td>cellular</td>\n",
       "      <td>445</td>\n",
       "      <td>2</td>\n",
       "      <td>-1</td>\n",
       "      <td>0</td>\n",
       "      <td>NaN</td>\n",
       "      <td>no</td>\n",
       "    </tr>\n",
       "  </tbody>\n",
       "</table>\n",
       "</div>"
      ],
      "text/plain": [
       "  last contact date  age           job  marital  education default  balance  \\\n",
       "0        2009-04-17   26   blue-collar  married  secondary      no      647   \n",
       "1        2009-10-11   52    technician  married  secondary      no      553   \n",
       "2        2010-11-20   44   blue-collar  married  secondary      no     1397   \n",
       "3        2009-09-01   33        admin.  married  secondary      no      394   \n",
       "4        2008-01-29   31  entrepreneur   single   tertiary      no      137   \n",
       "\n",
       "  housing loan    contact  duration  campaign  pdays  previous poutcome target  \n",
       "0     yes   no   cellular       357         2    331         1    other     no  \n",
       "1     yes   no  telephone       160         1     -1         0      NaN     no  \n",
       "2      no   no   cellular       326         1     -1         0      NaN     no  \n",
       "3     yes   no  telephone       104         3     -1         0      NaN     no  \n",
       "4      no   no   cellular       445         2     -1         0      NaN     no  "
      ]
     },
     "execution_count": 192,
     "metadata": {},
     "output_type": "execute_result"
    }
   ],
   "source": [
    "training_data.head()"
   ]
  },
  {
   "cell_type": "code",
   "execution_count": 209,
   "id": "e2584ab6-4c6d-4238-b900-1948f7732fa3",
   "metadata": {},
   "outputs": [
    {
     "name": "stdout",
     "output_type": "stream",
     "text": [
      "<class 'pandas.core.frame.DataFrame'>\n",
      "RangeIndex: 39211 entries, 0 to 39210\n",
      "Data columns (total 16 columns):\n",
      " #   Column             Non-Null Count  Dtype \n",
      "---  ------             --------------  ----- \n",
      " 0   last contact date  39211 non-null  object\n",
      " 1   age                39211 non-null  int64 \n",
      " 2   job                38982 non-null  object\n",
      " 3   marital            39211 non-null  object\n",
      " 4   education          37744 non-null  object\n",
      " 5   default            39211 non-null  object\n",
      " 6   balance            39211 non-null  int64 \n",
      " 7   housing            39211 non-null  object\n",
      " 8   loan               39211 non-null  object\n",
      " 9   contact            28875 non-null  object\n",
      " 10  duration           39211 non-null  int64 \n",
      " 11  campaign           39211 non-null  int64 \n",
      " 12  pdays              39211 non-null  int64 \n",
      " 13  previous           39211 non-null  int64 \n",
      " 14  poutcome           9760 non-null   object\n",
      " 15  target             39211 non-null  object\n",
      "dtypes: int64(6), object(10)\n",
      "memory usage: 4.8+ MB\n"
     ]
    }
   ],
   "source": [
    "training_data.info()"
   ]
  },
  {
   "cell_type": "code",
   "execution_count": 19,
   "id": "215e5d1c-5574-4401-a2f8-5df81fdab2d7",
   "metadata": {},
   "outputs": [],
   "source": [
    "train_set, validation_set = train_test_split(training_data,\n",
    "                                             test_size=0.3,\n",
    "                                             stratify=training_data['target'],\n",
    "                                             random_state=42)"
   ]
  },
  {
   "cell_type": "markdown",
   "id": "b15c65a8-c04e-4201-a2ae-f9d00a5ee6f1",
   "metadata": {
    "jp-MarkdownHeadingCollapsed": true
   },
   "source": [
    "## For Categorical"
   ]
  },
  {
   "cell_type": "code",
   "execution_count": 146,
   "id": "0c50b9fc-3613-4e50-9158-376a957fc4b0",
   "metadata": {},
   "outputs": [],
   "source": [
    "def are_dependent(A, B):\n",
    "    ct = pd.crosstab(A, B, dropna=False).transpose()\n",
    "    if stats.chi2_contingency(ct).pvalue <= 0.05:\n",
    "        return True\n",
    "    return False"
   ]
  },
  {
   "cell_type": "code",
   "execution_count": 489,
   "id": "31548c2d-f927-49e2-b23a-774b49a27602",
   "metadata": {},
   "outputs": [
    {
     "name": "stdout",
     "output_type": "stream",
     "text": [
      "job and target are dependent\n",
      "marital and target are dependent\n",
      "education and target are dependent\n",
      "default and target are dependent\n",
      "housing and target are dependent\n",
      "loan and target are dependent\n",
      "contact and target are dependent\n",
      "poutcome and target are dependent\n"
     ]
    }
   ],
   "source": [
    "for i in ['job', 'marital', 'education', 'default', 'housing', 'loan', 'contact', 'poutcome']:\n",
    "    if are_dependent(train_set.target, train_set[i]):\n",
    "        print(f'{i} and target are dependent')\n",
    "    else:\n",
    "        print(f'{i} and target are independent')"
   ]
  },
  {
   "cell_type": "code",
   "execution_count": 219,
   "id": "1e454d23-7f2f-4533-988c-1fff8e8bf198",
   "metadata": {},
   "outputs": [],
   "source": [
    "from sklearn.preprocessing import OneHotEncoder"
   ]
  },
  {
   "cell_type": "code",
   "execution_count": 220,
   "id": "091d582e-69dd-4376-86ce-fc1120ce2ab0",
   "metadata": {},
   "outputs": [],
   "source": [
    "def are_featurewise_dependent(A):\n",
    "    A = pd.DataFrame(train_set[A].copy(deep=True), index=train_set.index)\n",
    "    ohe = OneHotEncoder(sparse_output=False).set_output(transform='pandas')\n",
    "    A = ohe.fit_transform(A)\n",
    "    for i in A.columns:\n",
    "        if are_dependent(training_data.target, A[i]):\n",
    "            print(f'{i} and target are dependent')\n",
    "        else:\n",
    "            print(f'{i} and target are independent')"
   ]
  },
  {
   "cell_type": "code",
   "execution_count": 490,
   "id": "f5ec2d8e-0809-4d49-88ff-cade320d941b",
   "metadata": {},
   "outputs": [
    {
     "name": "stdout",
     "output_type": "stream",
     "text": [
      "poutcome_failure and target are dependent\n",
      "poutcome_other and target are dependent\n",
      "poutcome_success and target are dependent\n",
      "poutcome_nan and target are dependent\n"
     ]
    }
   ],
   "source": [
    "are_featurewise_dependent('poutcome')"
   ]
  },
  {
   "cell_type": "code",
   "execution_count": 221,
   "id": "dbabf4dd-f14b-4aae-817e-72092a7aff1f",
   "metadata": {},
   "outputs": [
    {
     "name": "stdout",
     "output_type": "stream",
     "text": [
      "job_admin. and target are dependent\n",
      "job_blue-collar and target are dependent\n",
      "job_entrepreneur and target are dependent\n",
      "job_housemaid and target are dependent\n",
      "job_management and target are independent\n",
      "job_retired and target are dependent\n",
      "job_self-employed and target are dependent\n",
      "job_services and target are dependent\n",
      "job_student and target are dependent\n",
      "job_technician and target are dependent\n",
      "job_unemployed and target are dependent\n",
      "job_nan and target are independent\n"
     ]
    }
   ],
   "source": [
    "are_featurewise_dependent('job')"
   ]
  },
  {
   "cell_type": "code",
   "execution_count": 140,
   "id": "1b704211-4d9d-442e-998a-a44e1e905989",
   "metadata": {},
   "outputs": [
    {
     "name": "stdout",
     "output_type": "stream",
     "text": [
      "marital_divorced and target are dependent\n",
      "marital_married and target are dependent\n",
      "marital_single and target are dependent\n"
     ]
    }
   ],
   "source": [
    "are_featurewise_dependent('marital')"
   ]
  },
  {
   "cell_type": "code",
   "execution_count": 141,
   "id": "37e638a3-cc05-40d9-851d-288dcdcb2db8",
   "metadata": {},
   "outputs": [
    {
     "name": "stdout",
     "output_type": "stream",
     "text": [
      "education_primary and target are independent\n",
      "education_secondary and target are dependent\n",
      "education_tertiary and target are dependent\n",
      "education_nan and target are dependent\n"
     ]
    }
   ],
   "source": [
    "are_featurewise_dependent('education')"
   ]
  },
  {
   "cell_type": "code",
   "execution_count": 152,
   "id": "ef3ba073-8741-431e-aee2-945487fa9958",
   "metadata": {},
   "outputs": [
    {
     "data": {
      "text/plain": [
       "education\n",
       "secondary    13699\n",
       "tertiary      8151\n",
       "primary       4592\n",
       "NaN           1005\n",
       "Name: count, dtype: int64"
      ]
     },
     "execution_count": 152,
     "metadata": {},
     "output_type": "execute_result"
    }
   ],
   "source": [
    "train_set.education.value_counts(dropna=False)"
   ]
  },
  {
   "cell_type": "code",
   "execution_count": 142,
   "id": "b3e688d7-daeb-4adb-b880-e75d2bedd116",
   "metadata": {},
   "outputs": [
    {
     "name": "stdout",
     "output_type": "stream",
     "text": [
      "default_no and target are dependent\n",
      "default_yes and target are dependent\n"
     ]
    }
   ],
   "source": [
    "are_featurewise_dependent('default')"
   ]
  },
  {
   "cell_type": "code",
   "execution_count": 143,
   "id": "dd8b13e1-1140-4bb2-bd51-8f6b38e2f1dd",
   "metadata": {},
   "outputs": [
    {
     "name": "stdout",
     "output_type": "stream",
     "text": [
      "loan_no and target are dependent\n",
      "loan_yes and target are dependent\n"
     ]
    }
   ],
   "source": [
    "are_featurewise_dependent('loan')"
   ]
  },
  {
   "cell_type": "code",
   "execution_count": 144,
   "id": "0f992cb3-7d8a-4cac-9aa2-e21149581305",
   "metadata": {},
   "outputs": [
    {
     "name": "stdout",
     "output_type": "stream",
     "text": [
      "housing_no and target are dependent\n",
      "housing_yes and target are dependent\n"
     ]
    }
   ],
   "source": [
    "are_featurewise_dependent('housing')"
   ]
  },
  {
   "cell_type": "code",
   "execution_count": 145,
   "id": "802cff33-2c6f-44d6-9907-eb342d17679a",
   "metadata": {},
   "outputs": [
    {
     "name": "stdout",
     "output_type": "stream",
     "text": [
      "contact_cellular and target are dependent\n",
      "contact_telephone and target are dependent\n",
      "contact_nan and target are dependent\n"
     ]
    }
   ],
   "source": [
    "are_featurewise_dependent('contact')"
   ]
  },
  {
   "cell_type": "code",
   "execution_count": 547,
   "id": "37ffe03f-bb8c-4687-a27e-b96488fbd830",
   "metadata": {},
   "outputs": [],
   "source": [
    "campaign = pd.DataFrame(train_set.campaign.copy(deep=True))"
   ]
  },
  {
   "cell_type": "code",
   "execution_count": 548,
   "id": "473d1acd-b5bc-4a06-8e66-c9226ceabbb3",
   "metadata": {},
   "outputs": [],
   "source": [
    "kbd = KBinsDiscretizer(strategy='kmeans', n_bins=11, encode='ordinal').set_output(transform='pandas')"
   ]
  },
  {
   "cell_type": "code",
   "execution_count": 559,
   "id": "36b4ebc2-71c2-4748-b21c-385208543846",
   "metadata": {},
   "outputs": [
    {
     "data": {
      "text/plain": [
       "campaign\n",
       "1           9813\n",
       "2           6997\n",
       "3           3142\n",
       "4           2027\n",
       "5           1057\n",
       "6            718\n",
       "7            446\n",
       "8            350\n",
       "9            195\n",
       "10           193\n",
       "11           144\n",
       "Name: count, dtype: int64"
      ]
     },
     "execution_count": 559,
     "metadata": {},
     "output_type": "execute_result"
    }
   ],
   "source": [
    "unique = campaign.value_counts()\n",
    "unique[unique > 0.005 * campaign.shape[0]]"
   ]
  },
  {
   "cell_type": "code",
   "execution_count": 551,
   "id": "de665569-6cdc-42c6-aa4a-0dda0b158875",
   "metadata": {},
   "outputs": [
    {
     "data": {
      "text/plain": [
       "<Axes: xlabel='campaign', ylabel='target'>"
      ]
     },
     "execution_count": 551,
     "metadata": {},
     "output_type": "execute_result"
    },
    {
     "data": {
      "image/png": "[encoded data removed]",
      "text/plain": [
       "<Figure size 300x200 with 1 Axes>"
      ]
     },
     "metadata": {},
     "output_type": "display_data"
    }
   ],
   "source": [
    "sns.boxplot(x=train_set.campaign, y=train_set.target)"
   ]
  },
  {
   "cell_type": "code",
   "execution_count": 558,
   "id": "63a71a10-50b3-4b04-a43f-98eaddf0a8e0",
   "metadata": {
    "scrolled": true
   },
   "outputs": [
    {
     "data": {
      "text/plain": [
       "<Axes: xlabel='campaign', ylabel='target'>"
      ]
     },
     "execution_count": 558,
     "metadata": {},
     "output_type": "execute_result"
    },
    {
     "data": {
      "image/png": "[encoded data removed]",
      "text/plain": [
       "<Figure size 300x200 with 1 Axes>"
      ]
     },
     "metadata": {},
     "output_type": "display_data"
    }
   ],
   "source": [
    "sns.boxplot(x=train_set.campaign.map(lambda x: x if x < 55 else 55), y=train_set.target)"
   ]
  },
  {
   "cell_type": "markdown",
   "id": "d37d5dd1-d540-4e36-94ed-57601d28c859",
   "metadata": {
    "jp-MarkdownHeadingCollapsed": true
   },
   "source": [
    "## For"
   ]
  },
  {
   "cell_type": "code",
   "execution_count": 474,
   "id": "3a2480a7-12b9-4922-b037-035d7ba6abe2",
   "metadata": {},
   "outputs": [],
   "source": [
    "pdays = pd.DataFrame(train_set.pdays.copy(deep=True))"
   ]
  },
  {
   "cell_type": "code",
   "execution_count": 475,
   "id": "725148a7-2847-45d8-b002-5e551e12e553",
   "metadata": {},
   "outputs": [
    {
     "data": {
      "text/plain": [
       "pdays\n",
       "-1       20626\n",
       " 182        84\n",
       " 92         84\n",
       " 91         76\n",
       " 183        68\n",
       "         ...  \n",
       " 830         1\n",
       " 832         1\n",
       " 831         1\n",
       " 852         1\n",
       " 851         1\n",
       "Name: count, Length: 837, dtype: int64"
      ]
     },
     "execution_count": 475,
     "metadata": {},
     "output_type": "execute_result"
    }
   ],
   "source": [
    "pdays.value_counts()"
   ]
  },
  {
   "cell_type": "code",
   "execution_count": 480,
   "id": "aab937a9-c116-4fc3-8858-67d6d928ce07",
   "metadata": {},
   "outputs": [
    {
     "data": {
      "text/plain": [
       "15450    False\n",
       "7609      True\n",
       "21983     True\n",
       "13917     True\n",
       "20991     True\n",
       "         ...  \n",
       "8964      True\n",
       "23322    False\n",
       "3638      True\n",
       "20677     True\n",
       "19138     True\n",
       "Name: pdays, Length: 27447, dtype: bool"
      ]
     },
     "execution_count": 480,
     "metadata": {},
     "output_type": "execute_result"
    }
   ],
   "source": [
    "pdays.pdays == -1"
   ]
  },
  {
   "cell_type": "code",
   "execution_count": 482,
   "id": "5ed1f05e-5e0a-4da4-94ed-2e7fea57820f",
   "metadata": {},
   "outputs": [],
   "source": [
    "# pdays['no_pdays'] = pdays.pdays\n",
    "pdays['no_pdays'] = pdays.no_pdays.map(lambda x: 1 if x == -1 else 0)\n",
    "pdays['pdays'] = pdays.pdays.map(lambda x: x if x != -1 else np.nan)"
   ]
  },
  {
   "cell_type": "code",
   "execution_count": 488,
   "id": "94d1f3c6-72dc-48b0-b57e-6d60c9c6f350",
   "metadata": {},
   "outputs": [
    {
     "data": {
      "text/plain": [
       "<Axes: xlabel='pdays', ylabel='target'>"
      ]
     },
     "execution_count": 488,
     "metadata": {},
     "output_type": "execute_result"
    },
    {
     "data": {
      "image/png": "[encoded data removed]",
      "text/plain": [
       "<Figure size 300x200 with 1 Axes>"
      ]
     },
     "metadata": {},
     "output_type": "display_data"
    }
   ],
   "source": [
    "sns.boxplot(x=pdays.pdays, y=train_set.target)"
   ]
  },
  {
   "cell_type": "markdown",
   "id": "b58c8db1-3524-4c26-90ff-05a3c22b34e3",
   "metadata": {
    "jp-MarkdownHeadingCollapsed": true
   },
   "source": [
    "### For age"
   ]
  },
  {
   "cell_type": "code",
   "execution_count": 178,
   "id": "6c78dcf0-610a-4cab-90d2-eef298abd8d2",
   "metadata": {},
   "outputs": [],
   "source": [
    "age = train_set.age.copy(deep=True)\n",
    "age_tno = train_set.loc[train_set.target == 'no'].age\n",
    "age_tyes = train_set.loc[train_set.target == 'yes'].age"
   ]
  },
  {
   "cell_type": "code",
   "execution_count": 182,
   "id": "d77e893c-ca26-435d-a6fe-a8214880a5a0",
   "metadata": {},
   "outputs": [
    {
     "data": {
      "image/png": "[encoded data removed]",
      "text/plain": [
       "<Figure size 900x200 with 3 Axes>"
      ]
     },
     "metadata": {},
     "output_type": "display_data"
    }
   ],
   "source": [
    "plt.figure(figsize=(9, 2))\n",
    "plt.subplot(1, 3, 1)\n",
    "plt.hist(age, bins=40)\n",
    "plt.subplot(1, 3, 2)\n",
    "plt.hist(age_tno, bins=40)\n",
    "plt.subplot(1, 3, 3)\n",
    "plt.hist(age_tyes, bins=40)\n",
    "plt.show()"
   ]
  },
  {
   "cell_type": "code",
   "execution_count": 183,
   "id": "4d72ad5d-9921-4913-beeb-0cc3ed9ba541",
   "metadata": {},
   "outputs": [],
   "source": [
    "lnage = np.log(age)\n",
    "lnage_tno = np.log(age_tno)\n",
    "lnage_tyes = np.log(age_tyes)"
   ]
  },
  {
   "cell_type": "code",
   "execution_count": 184,
   "id": "8f0b627b-6230-45a6-bfd8-cba3afa376f4",
   "metadata": {},
   "outputs": [
    {
     "data": {
      "image/png": "[encoded data removed]",
      "text/plain": [
       "<Figure size 900x200 with 3 Axes>"
      ]
     },
     "metadata": {},
     "output_type": "display_data"
    }
   ],
   "source": [
    "plt.figure(figsize=(9, 2))\n",
    "plt.subplot(1, 3, 1)\n",
    "plt.hist(lnage, bins=40)\n",
    "plt.subplot(1, 3, 2)\n",
    "plt.hist(lnage_tno, bins=40)\n",
    "plt.subplot(1, 3, 3)\n",
    "plt.hist(lnage_tyes, bins=40)\n",
    "plt.show()"
   ]
  },
  {
   "cell_type": "code",
   "execution_count": 189,
   "id": "9a53fd3f-5e8e-4104-85af-feb13d08a9cc",
   "metadata": {},
   "outputs": [
    {
     "data": {
      "text/plain": [
       "<Axes: xlabel='age', ylabel='target'>"
      ]
     },
     "execution_count": 189,
     "metadata": {},
     "output_type": "execute_result"
    },
    {
     "data": {
      "image/png": "[encoded data removed]",
      "text/plain": [
       "<Figure size 300x200 with 1 Axes>"
      ]
     },
     "metadata": {},
     "output_type": "display_data"
    }
   ],
   "source": [
    "sns.set_theme(rc={'figure.figsize':(3,2)})\n",
    "sns.boxplot(data=train_set, x='age', y='target')"
   ]
  },
  {
   "cell_type": "markdown",
   "id": "a98556af-479d-4b0a-8352-325c2a36d176",
   "metadata": {
    "jp-MarkdownHeadingCollapsed": true
   },
   "source": [
    "#### **null hypothesis**: age follows normal distribution"
   ]
  },
  {
   "cell_type": "code",
   "execution_count": 164,
   "id": "741a09bc-4b39-4125-b73a-737104a645f0",
   "metadata": {},
   "outputs": [
    {
     "data": {
      "text/plain": [
       "(np.float64(0.0950299498544665), np.float64(0.0001))"
      ]
     },
     "execution_count": 164,
     "metadata": {},
     "output_type": "execute_result"
    }
   ],
   "source": [
    "res = stats.goodness_of_fit(stats.norm, age, statistic='ks',\n",
    "                            random_state=rng)\n",
    "res.statistic, res.pvalue"
   ]
  },
  {
   "cell_type": "markdown",
   "id": "a7f0d998-2658-46de-b78f-4d59e766bdec",
   "metadata": {},
   "source": [
    "#### **null hypothesis**: log age follows normal distribution"
   ]
  },
  {
   "cell_type": "code",
   "execution_count": 190,
   "id": "ff493669-2e0d-49a1-9309-2d23ab831073",
   "metadata": {},
   "outputs": [
    {
     "data": {
      "text/plain": [
       "(np.float64(0.05781477568305904), np.float64(0.0001))"
      ]
     },
     "execution_count": 190,
     "metadata": {},
     "output_type": "execute_result"
    }
   ],
   "source": [
    "res = stats.goodness_of_fit(stats.norm, lnage, statistic='ks',\n",
    "                            random_state=rng)\n",
    "res.statistic, res.pvalue"
   ]
  },
  {
   "cell_type": "markdown",
   "id": "39a3b83d-3d82-46a1-a1a7-fc2fb82c9736",
   "metadata": {},
   "source": [
    "We will use min max scaler for age"
   ]
  },
  {
   "cell_type": "markdown",
   "id": "5da618e0-e404-4f04-9535-a7c63e063af2",
   "metadata": {
    "jp-MarkdownHeadingCollapsed": true
   },
   "source": [
    "### for balance"
   ]
  },
  {
   "cell_type": "code",
   "execution_count": 193,
   "id": "27de91c6-77d4-40ad-bf98-ed4df88dd988",
   "metadata": {},
   "outputs": [
    {
     "data": {
      "text/plain": [
       "<Axes: xlabel='balance', ylabel='target'>"
      ]
     },
     "execution_count": 193,
     "metadata": {},
     "output_type": "execute_result"
    },
    {
     "data": {
      "image/png": "[encoded data removed]",
      "text/plain": [
       "<Figure size 300x200 with 1 Axes>"
      ]
     },
     "metadata": {},
     "output_type": "display_data"
    }
   ],
   "source": [
    "sns.set_theme(rc={'figure.figsize':(3,2)})\n",
    "sns.boxplot(data=train_set, x='balance', y='target')"
   ]
  },
  {
   "cell_type": "code",
   "execution_count": 203,
   "id": "d5709fcf-e111-41f8-933b-84ff6a0410a2",
   "metadata": {},
   "outputs": [],
   "source": [
    "balance = pd.DataFrame(train_set.balance.copy(deep=True))"
   ]
  },
  {
   "cell_type": "code",
   "execution_count": 199,
   "id": "62fc07eb-9e6d-4221-9457-515c37c104ef",
   "metadata": {},
   "outputs": [
    {
     "data": {
      "text/plain": [
       "<Axes: ylabel='balance'>"
      ]
     },
     "execution_count": 199,
     "metadata": {},
     "output_type": "execute_result"
    },
    {
     "data": {
      "image/png": "[encoded data removed]",
      "text/plain": [
       "<Figure size 300x200 with 1 Axes>"
      ]
     },
     "metadata": {},
     "output_type": "display_data"
    }
   ],
   "source": [
    "sns.boxplot(balance)"
   ]
  },
  {
   "cell_type": "code",
   "execution_count": 200,
   "id": "d7befdd5-a9ab-4c8f-bcff-e99a1806e5f5",
   "metadata": {},
   "outputs": [
    {
     "data": {
      "text/plain": [
       "<Axes: xlabel='balance', ylabel='Count'>"
      ]
     },
     "execution_count": 200,
     "metadata": {},
     "output_type": "execute_result"
    },
    {
     "data": {
      "image/png": "[encoded data removed]",
      "text/plain": [
       "<Figure size 300x200 with 1 Axes>"
      ]
     },
     "metadata": {},
     "output_type": "display_data"
    }
   ],
   "source": [
    "sns.histplot(balance)"
   ]
  },
  {
   "cell_type": "code",
   "execution_count": 233,
   "id": "f32fefee-a24e-402f-8b4f-3f863a9502a4",
   "metadata": {},
   "outputs": [],
   "source": [
    "from sklearn.preprocessing import Normalizer\n",
    "n = Normalizer()\n",
    "bt = n.fit_transform(balance)\n",
    "bt = pd.Series(bt.reshape(1, -1)[0], index=balance.index)"
   ]
  },
  {
   "cell_type": "code",
   "execution_count": 236,
   "id": "92546cdd-fda9-4309-be27-160b43ed8f6a",
   "metadata": {},
   "outputs": [
    {
     "data": {
      "text/plain": [
       "True"
      ]
     },
     "execution_count": 236,
     "metadata": {},
     "output_type": "execute_result"
    }
   ],
   "source": [
    "are_dependent(bt, train_set.target)"
   ]
  },
  {
   "cell_type": "markdown",
   "id": "76644e11-5791-47b9-b18c-1675bcd05eb9",
   "metadata": {
    "jp-MarkdownHeadingCollapsed": true
   },
   "source": [
    "### For duration"
   ]
  },
  {
   "cell_type": "code",
   "execution_count": 375,
   "id": "9ab27b9c-7d37-4d75-b9da-f6c666b78b1a",
   "metadata": {},
   "outputs": [],
   "source": [
    "duration = train_set.duration.copy(deep=True)"
   ]
  },
  {
   "cell_type": "code",
   "execution_count": 376,
   "id": "b84d674f-ba17-44b1-a057-b2a1621f7af7",
   "metadata": {},
   "outputs": [
    {
     "data": {
      "text/plain": [
       "<Axes: xlabel='duration', ylabel='Count'>"
      ]
     },
     "execution_count": 376,
     "metadata": {},
     "output_type": "execute_result"
    },
    {
     "data": {
      "image/png": "[encoded data removed]",
      "text/plain": [
       "<Figure size 300x200 with 1 Axes>"
      ]
     },
     "metadata": {},
     "output_type": "display_data"
    }
   ],
   "source": [
    "sns.histplot(duration)"
   ]
  },
  {
   "cell_type": "markdown",
   "id": "65139e35-8c54-4dc1-861b-f73955035287",
   "metadata": {},
   "source": [
    "#### **null hypothesis**: duration follows chisqure distribution"
   ]
  },
  {
   "cell_type": "code",
   "execution_count": 385,
   "id": "74b65840-336c-4bb1-bdc8-7b75d129eed1",
   "metadata": {},
   "outputs": [],
   "source": [
    "# res = stats.goodness_of_fit(stats.chi2, duration, statistic='ks',\n",
    "#                             random_state=rng)\n",
    "# res.statistic, res.pvalue"
   ]
  },
  {
   "cell_type": "markdown",
   "id": "286cbfea-d696-45d2-bbc6-f14a9dc25730",
   "metadata": {},
   "source": [
    "## Model Training"
   ]
  },
  {
   "cell_type": "code",
   "execution_count": 585,
   "id": "0532a7fa-2303-4187-b767-dbd2f3265680",
   "metadata": {},
   "outputs": [],
   "source": [
    "X_train, y_train = train_set.drop('target', axis=1), train_set.target\n",
    "X_val, y_val = validation_set.drop('target', axis=1), validation_set.target"
   ]
  },
  {
   "cell_type": "code",
   "execution_count": 586,
   "id": "587f5a90-ede0-489b-9382-544e1898f73c",
   "metadata": {},
   "outputs": [],
   "source": [
    "class CustomTransformer(BaseEstimator, TransformerMixin):\n",
    "    def __init__(self, columns_to_transform=None):\n",
    "        self.columns_to_transform = columns_to_transform\n",
    "\n",
    "    def fit(self, X, y=None):\n",
    "        return self\n",
    "\n",
    "    def transform(self, X):\n",
    "        X_transformed = X.copy()\n",
    "\n",
    "        X_transformed['last contact date'] = pd.to_datetime(X_transformed['last contact date'])\n",
    "        X_transformed['date'] = (X_transformed['last contact date'].dt.day - 1)/29\n",
    "        X_transformed['month'] = (X_transformed['last contact date'].dt.month - 1)/11\n",
    "        X_transformed['year'] = X_transformed['last contact date'].dt.year\n",
    "        X_transformed = X_transformed.drop('last contact date', axis=1)\n",
    "\n",
    "        X_transformed['no_pdays'] = X_transformed.pdays.map(lambda x: 1 if x == -1 else 0)\n",
    "        X_transformed['pdays'] = X_transformed.pdays.map(lambda x: x if x != -1 else np.nan)\n",
    "\n",
    "        X_transformed['campaign'] = X_transformed.campaign.map(lambda x: x if x < 12 else 12)\n",
    "\n",
    "        return X_transformed\n",
    "    def set_output(self, **kwargs):\n",
    "        return self"
   ]
  },
  {
   "cell_type": "code",
   "execution_count": 644,
   "id": "e55e1ac2-7262-45bf-ae15-55d5a7489c76",
   "metadata": {},
   "outputs": [],
   "source": [
    "encoder = ColumnTransformer([\n",
    "    ('oe', OrdinalEncoder(), ['default', 'loan', 'housing']),\n",
    "    ('oe1', OrdinalEncoder(min_frequency=0.001), ['education']),\n",
    "    ('oe2', OrdinalEncoder(min_frequency=0.001), ['marital']),\n",
    "    ('ohe', OneHotEncoder(sparse_output=False), ['contact', 'job', 'poutcome']),\n",
    "    ('norm', MinMaxScaler(), ['balance']),\n",
    "    ('mms', MinMaxScaler(), ['age', 'duration', 'year', 'pdays', 'previous']),\n",
    "], remainder='passthrough', force_int_remainder_cols=False).set_output(transform='pandas')"
   ]
  },
  {
   "cell_type": "code",
   "execution_count": 645,
   "id": "6d1896ea-84d0-43e2-9c82-aab014b80ed5",
   "metadata": {},
   "outputs": [],
   "source": [
    "pipe = Pipeline([\n",
    "    ('custom', CustomTransformer()),\n",
    "    ('encoder', encoder)])"
   ]
  },
  {
   "cell_type": "code",
   "execution_count": 679,
   "id": "ce6bbf1b-5749-498b-ac37-dd75bba301bf",
   "metadata": {},
   "outputs": [],
   "source": [
    "pipe_dt = Pipeline([\n",
    "    ('custom', CustomTransformer()),\n",
    "    ('encoder', encoder),\n",
    "    ('dtc', DecisionTreeClassifier(max_features=None))\n",
    "])\n",
    "pipe_dt.fit(X_train, y_train)\n",
    "y_pred = pipe_dt.predict(X_val)\n",
    "y_pred_train = pipe_dt.predict(X_train)"
   ]
  },
  {
   "cell_type": "code",
   "execution_count": 813,
   "id": "1345130a-0059-4e6e-851f-0e4dfde1b86c",
   "metadata": {},
   "outputs": [],
   "source": [
    "pipe_rfc = pipe = Pipeline([\n",
    "    ('custom', CustomTransformer()),\n",
    "    ('encoder', encoder),\n",
    "    ('rfc', RandomForestClassifier(bootstrap=False))\n",
    "])\n",
    "pipe_rfc.fit(X_train, y_train)\n",
    "y_pred = pipe_rfc.predict(X_val)\n",
    "y_pred_train = pipe_rfc.predict(X_train)"
   ]
  },
  {
   "cell_type": "code",
   "execution_count": 814,
   "id": "67a7a07e-fa3b-4db7-a8ff-6c86b301f377",
   "metadata": {},
   "outputs": [],
   "source": [
    "# pipe_bc = pipe = Pipeline([\n",
    "#     ('custom', CustomTransformer()),\n",
    "#     ('encoder', encoder),\n",
    "#     ('bc', BaggingClassifier(estimator=DecisionTreeClassifier(), n_estimators=10))\n",
    "# ])\n",
    "# pipe_bc.fit(X_train, y_train)\n",
    "# y_pred = pipe_bc.predict(X_val)"
   ]
  },
  {
   "cell_type": "code",
   "execution_count": 815,
   "id": "2703d19d-6cb5-4f83-ab5f-3265a2e261f4",
   "metadata": {},
   "outputs": [],
   "source": [
    "# pipe_mlpr = pipe = Pipeline([\n",
    "#     ('custom', CustomTransformer()),\n",
    "#     ('encoder', encoder),\n",
    "#     ('mlpr', MLPRegressor())\n",
    "# ])\n",
    "# pipe_mlpr.fit(X_train, y_train)\n",
    "# y_pred = pipe_mlpr.predict(X_val)\n",
    "# y_pred_train = pipe_mlpr.predict(X_train)"
   ]
  },
  {
   "cell_type": "markdown",
   "id": "a468d768-8500-400d-8b01-616150a3f5cc",
   "metadata": {},
   "source": [
    "## Evaluation"
   ]
  },
  {
   "cell_type": "code",
   "execution_count": 816,
   "id": "7ad20f0e-6619-41f6-ac0b-30b2840a9cdc",
   "metadata": {},
   "outputs": [
    {
     "data": {
      "text/plain": [
       "array([[9517, 1001],\n",
       "       [ 499,  747]])"
      ]
     },
     "execution_count": 816,
     "metadata": {},
     "output_type": "execute_result"
    }
   ],
   "source": [
    "confusion_matrix(y_pred, y_val)"
   ]
  },
  {
   "cell_type": "code",
   "execution_count": 817,
   "id": "501516f8-652d-4587-8473-5e7e176b3802",
   "metadata": {},
   "outputs": [
    {
     "name": "stdout",
     "output_type": "stream",
     "text": [
      "Train Accuracy is 1.0\n"
     ]
    }
   ],
   "source": [
    "print(f'Train Accuracy is {accuracy_score(y_train, y_pred_train)}')"
   ]
  },
  {
   "cell_type": "code",
   "execution_count": 818,
   "id": "e0fec829-48de-4d4a-990a-5105b9fa9a17",
   "metadata": {},
   "outputs": [
    {
     "name": "stdout",
     "output_type": "stream",
     "text": [
      "Test Accuracy is 0.8724923495409724\n"
     ]
    }
   ],
   "source": [
    "print(f'Test Accuracy is {accuracy_score(y_val, y_pred)}')"
   ]
  },
  {
   "cell_type": "code",
   "execution_count": 819,
   "id": "e73cb666-c5c5-44b0-9e6c-909d9b97452e",
   "metadata": {},
   "outputs": [
    {
     "data": {
      "text/plain": [
       "np.float64(0.7129742098397633)"
      ]
     },
     "execution_count": 819,
     "metadata": {},
     "output_type": "execute_result"
    }
   ],
   "source": [
    "f1_score(y_pred=y_pred, y_true=y_val, average='macro')"
   ]
  },
  {
   "cell_type": "code",
   "execution_count": 805,
   "id": "5bd7cbf5-8dd8-4533-9573-5ce681cf808c",
   "metadata": {},
   "outputs": [],
   "source": [
    "# plt.figure(figsize=(15, 9))\n",
    "# plot_tree(pipe_dt['dtc'], max_depth=5)\n",
    "# plt.show()"
   ]
  },
  {
   "cell_type": "code",
   "execution_count": null,
   "id": "69eba263-372d-4056-8ed0-4c67dfc8726f",
   "metadata": {},
   "outputs": [],
   "source": []
  },
  {
   "cell_type": "code",
   "execution_count": null,
   "id": "664217be-0553-4c01-b1ea-779ec2c2d0c3",
   "metadata": {},
   "outputs": [],
   "source": []
  }
 ],
 "metadata": {
  "kernelspec": {
   "display_name": "Python 3 (ipykernel)",
   "language": "python",
   "name": "python3"
  },
  "language_info": {
   "codemirror_mode": {
    "name": "ipython",
    "version": 3
   },
   "file_extension": ".py",
   "mimetype": "text/x-python",
   "name": "python",
   "nbconvert_exporter": "python",
   "pygments_lexer": "ipython3",
   "version": "3.8.20"
  }
 },
 "nbformat": 4,
 "nbformat_minor": 5
}
